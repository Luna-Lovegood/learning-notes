{
 "cells": [
  {
   "cell_type": "markdown",
   "metadata": {},
   "source": [
    "# Programming Exercise 4: Neural Networks Learning\n",
    "\n",
    "## Introduction\n",
    "In this exercise, you will implement the backpropagation algorithm for neural networks and apply it to the task of hand-written digit recognition. Before starting on the programming exercise, we strongly recommend watching the video lectures and complelting the review questions for the associated topics."
   ]
  },
  {
   "cell_type": "markdown",
   "metadata": {},
   "source": [
    "## 1. Neural Networks\n",
    "In the previous exercise, you implemented feedforward propagation for neural networks and used it to predict handwritten digits with the weights we provided. In this exercise, you will implement the backpropagation algorithm to *learn* the parameters for the neural network."
   ]
  },
  {
   "cell_type": "code",
   "execution_count": 1,
   "metadata": {
    "collapsed": true
   },
   "outputs": [],
   "source": [
    "import numpy as np\n",
    "import matplotlib.pyplot as plt\n",
    "from matplotlib import cm\n",
    "from scipy.optimize import minimize\n",
    "from scipy.io import loadmat  # to load .mat file\n",
    "\n",
    "%matplotlib inline"
   ]
  },
  {
   "cell_type": "markdown",
   "metadata": {},
   "source": [
    "### 1.1. Visualizing the data\n",
    "In the first part of the exercise, the code will load the data and display it on a 2-dimensional plot by calling the function `displayData`. This is the same dataset that you used in the previous exercise. There are 5000 training examples in `ex4data1.mat`, where each training example is 20 pixel by 20 pixel grayscale image of the digit. Each pixel is represented by a floating point number indicating the grayscale intensity at that location. The 20 by 20 grid of pixels is \"unrolled\" into a 400-dimensional vector. Each of these training examples becomes a single row in our data matrix $X$. This gives us a 5000 by 400 matrix $X$ where every row is a training example for a handwritten digit image.\n",
    "\n",
    "$$ X = \\left[\\begin{array}{ccc} \\text{——} (x^{(1)})^T \\text{——} \\\\ \\text{——} (x^{(2)})^T \\text{——} \\\\ \\vdots \\\\ \\text{——} (x^{(m)})^T \\text{——} \\end{array}\\right] $$\n",
    "\n",
    "The second part of the training set is 5000-dimensional vector $y$ that contains labels for the training set. Because this exercise was at first created for Octave/MATLAB, to make things more compatible, the digit zero has been mapped to the value ten. Therefore, a \"0\" digit is labeled as \"10\", where the digits \"1\" to \"9\" are labeled as \"1\" to \"9\" in their natural order."
   ]
  },
  {
   "cell_type": "code",
   "execution_count": 2,
   "metadata": {
    "collapsed": true
   },
   "outputs": [],
   "source": [
    "# Loading and Visualizing Data\n",
    "data = loadmat('data/ex4/ex4data1.mat')  # data is a 'dict' object\n",
    "# Get X and y from dict data\n",
    "X = data['X']  # (5000, 400) ndarray\n",
    "y = data['y']  # (5000, 1) ndarray\n",
    "\n",
    "m = X.shape[0] # the number of training examples\n",
    "input_layer_size = 400 # 20x20 input images of digits\n",
    "hidden_layer_size = 25 # 25 hidden units\n",
    "num_labels = 10 # 10 labels, from 1 to 10\n",
    "\n",
    "# Randomly select 100 data points to display\n",
    "rand_indices = np.random.randint(0, m, 100)"
   ]
  },
  {
   "cell_type": "code",
   "execution_count": 3,
   "metadata": {
    "collapsed": true
   },
   "outputs": [],
   "source": [
    "def display_data(X, example_width=None):\n",
    "    \"\"\"\n",
    "    `display_data(X, example_width)` displays 2D data stored in X in a nice\n",
    "    grid.\n",
    "    \"\"\"\n",
    "    \n",
    "    if (example_width == None):\n",
    "        example_width = int(np.sqrt(X.shape[1]))\n",
    "        \n",
    "    # Compute the number of images, the pixels of each image\n",
    "    m, pixels = X.shape\n",
    "    \n",
    "    # Compute the height of each image\n",
    "    w = example_width\n",
    "    h = int(pixels / w)\n",
    "    \n",
    "    # Compute nubmer of items to display\n",
    "    display_rows = int(np.floor(np.sqrt(m)))\n",
    "    display_cols = int(np.ceil(m / display_rows))\n",
    "    # print(display_rows, display_cols)\n",
    "    \n",
    "    # The padding between images\n",
    "    h_padding = -np.ones((1, (w+1)*display_cols+1))\n",
    "    v_padding = -np.ones((h, 1))\n",
    "    \n",
    "    # Setup blank display\n",
    "    display_array = h_padding\n",
    "    row_images = v_padding\n",
    "    \n",
    "    # Rearange the data\n",
    "    # Note that the scan order used by reshape in NumPy defaults to\n",
    "    # the ‘C’ order, whereas MATLAB uses the Fortran order. We can do\n",
    "    # transpose to make the transform.\n",
    "    # https://docs.scipy.org/doc/numpy-dev/user/numpy-for-matlab-users.html\n",
    "    stacked_images = X.reshape(m * h, w)\n",
    "    split_stacked_images = np.array(np.vsplit(stacked_images, range(h, m*h, h)))\n",
    "    # print(split_stacked_images.shape)\n",
    "    \n",
    "    for i in range(1, display_rows*display_cols+1):\n",
    "        \n",
    "        # if can't be displaed as a exact square\n",
    "        if i > m:\n",
    "            single_image = -np.ones((h, w)) # blank\n",
    "        else:\n",
    "            single_image = split_stacked_images[i-1].T # digit image\n",
    "        \n",
    "        if (i % display_cols) == 0:\n",
    "            # print(\"i = \" + str(i), \"display_cols = \" + str(display_cols))\n",
    "            row_images = np.hstack((row_images, single_image))\n",
    "            row_images = np.hstack((row_images, v_padding))\n",
    "            display_array = np.vstack((display_array, row_images))\n",
    "            display_array = np.vstack((display_array, h_padding))\n",
    "            row_images = v_padding # clear row_images to v_padding\n",
    "        else:\n",
    "            row_images = np.hstack((row_images, single_image))\n",
    "            row_images = np.hstack((row_images, v_padding))\n",
    "    \n",
    "    # print(display_array.shape)\n",
    "    \n",
    "    # Display image\n",
    "    plt.imshow(display_array, cmap='gray')\n",
    "    plt.axis(\"off\")"
   ]
  },
  {
   "cell_type": "code",
   "execution_count": 4,
   "metadata": {},
   "outputs": [
    {
     "data": {
      "image/png": "[encoded data removed]",
      "text/plain": [
       "<matplotlib.figure.Figure at 0x10c609710>"
      ]
     },
     "metadata": {},
     "output_type": "display_data"
    },
    {
     "name": "stdout",
     "output_type": "stream",
     "text": [
      "[[10 10  3  7  3  6  8  3  1  5]\n",
      " [ 4  7  4  7  8  5  5  9 10  3]\n",
      " [10  8  6  9  6  8  6 10  9  3]\n",
      " [ 8  7  7  2  3  5  3  3  8  8]\n",
      " [ 6  2  3  8  7  7  7  6  2  8]\n",
      " [ 9  9 10  4  3  8  7  5  9  1]\n",
      " [ 5  7  4  5 10  7  9 10  4  8]\n",
      " [ 7  9  9  4  1 10  6  1 10  5]\n",
      " [ 9  8  3  7  3  3  4  4  8  7]\n",
      " [ 5  5  6 10  1  7 10  9  5  8]]\n"
     ]
    }
   ],
   "source": [
    "# Plot examples fromt the dataset\n",
    "display_data(X[rand_indices])\n",
    "plt.title(\"Examples from the dataset\")\n",
    "plt.show()\n",
    "print(y[rand_indices].reshape(10, 10))"
   ]
  },
  {
   "cell_type": "markdown",
   "metadata": {},
   "source": [
    "### 1.2. Model representation\n",
    "Our neural work is shown in the following figure.\n",
    "![Neural Network model](data/ex3/neural-network-model.jpg)\n",
    "It has 3 layers - an input layer, a hidden layer and an output layer. Recall that our inputs are pixel values of digit images. Since the iamges are of 20 $\\times$ 20, this gives us 400 input layer units (not counting the extra bias unit which always outputs +1). The training data will be loaded into the variables $X$ and $y$ by the script.\n",
    "\n",
    "You have been provided with a set of network parameters $(\\Theta^{(1)}, \\Theta^{(2)})$ already trained by us. These are stored in `ex4weights.mat` and will be loaded into `Theta1` and `Theta2`. The parameters have dimensions that are sized for a neural network with 25 units in the second layer and 10 output units (corresponding to the 10 digit classes)."
   ]
  },
  {
   "cell_type": "code",
   "execution_count": 5,
   "metadata": {
    "collapsed": true
   },
   "outputs": [],
   "source": [
    "# Load the weights into variables Theta1 and Theta2\n",
    "nn_params = loadmat('data/ex4/ex4weights.mat')\n",
    "Theta1 = nn_params[\"Theta1\"]  # Theta1.shape = (25, 401)\n",
    "Theta2 = nn_params[\"Theta2\"]  # Theta2.shape = (10, 26)"
   ]
  },
  {
   "cell_type": "markdown",
   "metadata": {},
   "source": [
    "### 1.3. Feedforward and cost function\n",
    "Now you have implement the cost function and gradient for the neural network. First, complete the code in `compute_cost` function to return the cost.\n",
    "\n",
    "Recall that the cost function for the neural network (without regularization) is\n",
    "$$J(\\theta) = \\frac{1}{m}\\sum_{i=1}^m \\sum_{k=1}^K \\left[-y_k^{(i)} \\log((h_{\\theta}(x^{(i)}))_k) - (1-y_k^{(i)})\\log(1-(h_{\\theta}(x^{(i)}))_k)\\right]$$\n",
    "where $h_{\\theta}(x^{(i)})$ is computed as shown in the above figure, and $K = 10$ is the total number of possible labels. Note that $h_{\\theta}(x^{(i)})_k = a_k^{(3)}$ is the activation (output value) of the $k$-th output unit. Also, recall that whereas the original labels (in the variable $y$) were 1, 2, $\\ldots$, 10, for the purpose of training a neural network, we need to recode the labels as vectors containing only values 0 or 1, so that\n",
    "$$y = \\left[\\begin{array}{c} 1 \\\\ 0 \\\\ 0 \\\\ \\vdots \\\\ 0 \\end{array}\\right], \\quad \\left[\\begin{array}{c} 0 \\\\ 1 \\\\ 0 \\\\ \\vdots \\\\ 0 \\end{array}\\right], \\quad, \\cdots \\quad or \\left[\\begin{array}{c} 0 \\\\ 0 \\\\ 0 \\\\ \\vdots \\\\ 1 \\end{array}\\right] $$\n",
    "\n",
    "For example, if $x^{(i)}$ is an image of the digit 5, then the corresponding $y^{(i)}$ (that you should use with the cost function) should be a 10-dimensional vector with $y_5 = 1$, and the other elements equal to 0.\n",
    "\n",
    "You should implement the feedforward computation that computes $h_{\\theta}(x^{(i)})$ for every example $i$ and sum the cost over all examples. **Your code should also work for a dataset of any size, with any number of labels** (you can assume that there are always at least $K \\geq 3$ labels)."
   ]
  },
  {
   "cell_type": "markdown",
   "metadata": {},
   "source": [
    "### 1.4. Regularized cost function\n",
    "The cost function for neural networks with regularization is given by\n",
    "$$J(\\theta) = \\frac{1}{m}\\sum_{i=1}^m \\sum_{k=1}^K \\left[-y_k^{(i)} \\log((h_{\\theta}(x^{(i)}))_k) - (1-y_k^{(i)})\\log(1-(h_{\\theta}(x^{(i)}))_k)\\right] + \\frac{\\lambda}{2m}\\left[\\sum_{j=1}^{25} \\sum_{k=1}^{400} (\\Theta_{j,k}^{(1)})^2 + \\sum_{j=1}^{10} \\sum_{k=1}^{25}(\\Theta_{j,k}^{(2)})^2\\right]$$"
   ]
  },
  {
   "cell_type": "code",
   "execution_count": 6,
   "metadata": {
    "collapsed": true
   },
   "outputs": [],
   "source": [
    "def sigmoid(x):\n",
    "    \"\"\"\n",
    "    Compute the sigmoid of x\n",
    "\n",
    "    Arguments:\n",
    "    x -- A scalar or numpy array of any size.\n",
    "\n",
    "    Return:\n",
    "    s -- sigmoid(x)\n",
    "    \"\"\"\n",
    "    s = 1/(1+np.exp(-x))\n",
    "    return s"
   ]
  },
  {
   "cell_type": "code",
   "execution_count": 7,
   "metadata": {
    "collapsed": true
   },
   "outputs": [],
   "source": [
    "def forward_propagation(X, parameters):\n",
    "    \"\"\"\n",
    "    Argument:\n",
    "    X -- input data of size (m, n_x)\n",
    "    nn_params -- python dictionary containing your parameters (output of initialization function)\n",
    "        Theta1 -- nn_params[\"Theta1\"]\n",
    "        Theta2 -- nn_params[\"Theta2\"]\n",
    "    \n",
    "    Returns:\n",
    "    A2 -- The sigmoid output of the second activation\n",
    "    cache -- a dictionary containing \"Z1\", \"A1\", \"Z2\" and \"A2\"\n",
    "    \"\"\"\n",
    "    \n",
    "    # Get Theta1 and Theta2 from parameters\n",
    "    Theta1 = parameters[\"Theta1\"]  # Theta1.shape = (25, 401)\n",
    "    Theta2 = parameters[\"Theta2\"]  # Theta2.shape = (10, 26)\n",
    "        \n",
    "    A0 = X.T\n",
    "    A0 = np.vstack((np.ones((1, A0.shape[1])), A0))  # A0.shape = (401, 5000)\n",
    "    Z1 = np.dot(Theta1, A0)  # Z1.shape = (25, 5000)\n",
    "    A1 = sigmoid(Z1)  \n",
    "    A1 = np.vstack((np.ones((1, A1.shape[1])), A1))  # A1.shape = (26, 5000)\n",
    "    Z2 = np.dot(Theta2, A1)  # Z2.shape = (10, 5000)\n",
    "    A2 = sigmoid(Z2)  # A2.shape = (10, 5000)\n",
    "    \n",
    "    cache = {\"A0\": A0,\n",
    "             \"Z1\": Z1,\n",
    "             \"A1\": A1,\n",
    "             \"Z2\": Z2,\n",
    "             \"A2\": A2}\n",
    "    \n",
    "    return A2, cache"
   ]
  },
  {
   "cell_type": "code",
   "execution_count": 8,
   "metadata": {
    "collapsed": true
   },
   "outputs": [],
   "source": [
    "def one_hot_matrix(labels, C):\n",
    "    \"\"\"\n",
    "    Creates a matrix where the i-th row corresponds to the ith class number and the jth column\n",
    "                     corresponds to the jth training example. So if example j had a label i. Then entry (i,j) \n",
    "                     will be 1. \n",
    "                     \n",
    "    Arguments:\n",
    "    labels -- vector containing the labels \n",
    "    C -- number of classes, the depth of the one hot dimension\n",
    "    \n",
    "    Returns: \n",
    "    one_hot -- one hot matrix\n",
    "    \"\"\"\n",
    "    \n",
    "    # Turn y into Y\n",
    "    one_hot = np.zeros((C, labels.shape[0]))\n",
    "    for i in range(one_hot.shape[1]):\n",
    "        one_hot[:, i][labels[i]-1] = 1\n",
    "        \n",
    "    return one_hot"
   ]
  },
  {
   "cell_type": "code",
   "execution_count": 9,
   "metadata": {},
   "outputs": [],
   "source": [
    "# Turn labels y into one hot matrix Y\n",
    "Y = one_hot_matrix(y, num_labels)"
   ]
  },
  {
   "cell_type": "code",
   "execution_count": 10,
   "metadata": {
    "collapsed": true
   },
   "outputs": [],
   "source": [
    "def compute_cost(A2, Y, parameters, lambd=0):\n",
    "    \"\"\"\n",
    "    Computes the cross-entropy cost\n",
    "    \n",
    "    Arguments:\n",
    "    A2 -- The sigmoid output of the second activation\n",
    "    Y -- The labels of the images, one hot matrix\n",
    "    parameters -- dictionary containing parameters Theta1 and Theta2\n",
    "    \n",
    "    Returns:\n",
    "    cost -- cross-entropy cost\n",
    "    \"\"\"\n",
    "    \n",
    "     # Get Theta1 and Theta2 from parameters\n",
    "    Theta1 = parameters[\"Theta1\"]  # Theta1.shape = (25, 401)\n",
    "    Theta2 = parameters[\"Theta2\"]  # Theta2.shape = (10, 26)\n",
    "    m = Y.shape[1] # the number of the examples\n",
    "    \n",
    "    assert(A2.shape == Y.shape)\n",
    "\n",
    "    # Compute the cross-entropy cost\n",
    "    logprobs = np.multiply(np.log(A2), Y) + np.multiply(np.log(1-A2), 1-Y)\n",
    "    cost = - np.sum(logprobs) / m + (np.sum(Theta1[:, 1:] ** 2)\n",
    "            + np.sum(Theta2[:, 1:] ** 2)) * lambd / (2 * m)\n",
    "    \n",
    "    cost = np.squeeze(cost)  # makes sure cost is the dimension we expect. \n",
    "                             # E.g., turns [[17]] into 17 \n",
    "    assert(isinstance(cost, float))\n",
    "    \n",
    "    return cost"
   ]
  },
  {
   "cell_type": "code",
   "execution_count": 11,
   "metadata": {},
   "outputs": [
    {
     "name": "stdout",
     "output_type": "stream",
     "text": [
      "Feedforward Using Neural Network ...\n",
      "Cost at parameters (loaded from ex4weights): 0.287629165161 (this value should be about 0.287629)\n",
      "\n",
      "Checking Cost Function (w/ Regularization) ...\n",
      "Cost at parameters (loaded from ex4weights): 0.383769859091 (this value should be about 0.383770)\n"
     ]
    }
   ],
   "source": [
    "print(\"Feedforward Using Neural Network ...\")\n",
    "\n",
    "# Weight regularization parameter (set 0 here)\n",
    "lambd = 0\n",
    "A2, cache = forward_propagation(X, nn_params)\n",
    "J = compute_cost(A2, Y, nn_params, lambd)\n",
    "print(\"Cost at parameters (loaded from ex4weights): \" + str(J)\n",
    "      + \" (this value should be about 0.287629)\")\n",
    "\n",
    "print(\"\\nChecking Cost Function (w/ Regularization) ...\")\n",
    "\n",
    "# Weight regularization parameter (set 1 here)\n",
    "lambd = 1\n",
    "A2, cache = forward_propagation(X, nn_params)\n",
    "J = compute_cost(A2, Y, nn_params, lambd)\n",
    "print(\"Cost at parameters (loaded from ex4weights): \" + str(J)\n",
    "      + \" (this value should be about 0.383770)\")"
   ]
  },
  {
   "cell_type": "markdown",
   "metadata": {},
   "source": [
    "## 2. Backpropagation\n",
    "In this part of the exercise, you will implement the backpropagation algo- rithm to compute the gradient for the neural network cost function.\n",
    "\n",
    "### 2.1. Sigmoid gradient\n",
    "To help you get started with this part of the exercise, you will first implement the sigmoid gradient function. The gradient for the sigmoid function can be computed as\n",
    "$$ g'(z) = \\frac{\\text{d}}{\\text{d}z}g(z) = g(z)(1-g(z)) $$\n",
    "where\n",
    "$$ \\text{sigmoid}(z) = g(z) = \\frac{1}{1 + e^{-z}} $$"
   ]
  },
  {
   "cell_type": "code",
   "execution_count": 12,
   "metadata": {
    "collapsed": true
   },
   "outputs": [],
   "source": [
    "def sigmoid_gradient(z):\n",
    "    \"\"\"\n",
    "    Compute the gradient of the sigmoid function\n",
    "    \"\"\"\n",
    "    g = np.multiply(sigmoid(z), 1-sigmoid(z))\n",
    "    \n",
    "    return g"
   ]
  },
  {
   "cell_type": "code",
   "execution_count": 13,
   "metadata": {},
   "outputs": [
    {
     "name": "stdout",
     "output_type": "stream",
     "text": [
      "Evaluating sigmoid gradient ...\n",
      "Sigmoid gradient evaluated at [-1, 0.5, 0, 0.5, 1]: \n",
      "[ 0.19661193  0.23500371  0.25        0.23500371  0.19661193]\n",
      "Expected value: [0.196612 0.235004 0.250000 0.235004 0.196612]\n"
     ]
    }
   ],
   "source": [
    "print(\"Evaluating sigmoid gradient ...\")\n",
    "g = sigmoid_gradient(np.array([-1, 0.5, 0, 0.5, 1]))\n",
    "print(\"Sigmoid gradient evaluated at [-1, 0.5, 0, 0.5, 1]: \")\n",
    "print(g)\n",
    "print(\"Expected value: [0.196612 0.235004 0.250000 0.235004 0.196612]\")"
   ]
  },
  {
   "cell_type": "markdown",
   "metadata": {},
   "source": [
    "### 2.2. Random Initialization\n",
    "When training neural networks, it is important to randomly initialize the parameters for symmetry breaking. One effective strategy for random initialization is to randomly select values for $\\Theta^{[l]}$ uniformly in the range $[-\\epsilon_{init}, \\epsilon_{init}]$. You should use $\\epsilon_{init} = 0.12$ This range of values ensures that the parameters are kept small and makes the learning more effcient."
   ]
  },
  {
   "cell_type": "code",
   "execution_count": 14,
   "metadata": {
    "collapsed": true
   },
   "outputs": [],
   "source": [
    "def rand_initialize_weights(L_in, L_out):\n",
    "    \"\"\"\n",
    "    Randomly initialize the weights of a layer with L_in incoming\n",
    "    connections and L_out outgoing connections\n",
    "    \"\"\"\n",
    "    \n",
    "    # Randomly initialize the weights to small values\n",
    "    epsilon_init = 0.12;\n",
    "    W = np.random.rand(L_out, 1+L_in) * 2 * epsilon_init - epsilon_init\n",
    "    \n",
    "    return W"
   ]
  },
  {
   "cell_type": "code",
   "execution_count": 15,
   "metadata": {},
   "outputs": [],
   "source": [
    "# Initialize parameters\n",
    "def initialize_parameters(input_layer_size, hidden_layer_size, num_labels):\n",
    "    initial_Theta1 = rand_initialize_weights(input_layer_size, \\\n",
    "                                             hidden_layer_size)\n",
    "    initial_Theta2 = rand_initialize_weights(hidden_layer_size, num_labels)\n",
    "    initial_nn_params = {\"Theta1\": initial_Theta1,\n",
    "                         \"Theta2\": initial_Theta2}\n",
    "    \n",
    "    return initial_nn_params;"
   ]
  },
  {
   "cell_type": "markdown",
   "metadata": {},
   "source": [
    "### 2.3. Backpropagation\n",
    "Now, you will implement the backpropagation algorithm. Recall that\n",
    "the intuition behind the backpropagation algorithm is as follows. Given a\n",
    "training example $(x^{(t)},y^{(t)})$, we will first run a \"forward pass\" to compute all the activations throughout the network, including the output value of the hypothesis $h_{\\Theta}(x)$. Then, for each node $j$ in layer $l$, we would like to compute an \"error term\" $\\delta_j^{(l)}$ that measures how much that node was \"responsible\" for any errors in our output.\n",
    "\n",
    "For an output node, we can directly measure the difference between the\n",
    "network's activation and the true target value, and use that to define $\\delta_j^{(3)}$ (since layer 3 is the output layer). For the hidden units, you will compute $\\delta_j^{(l)}$ based on a weighted average of the error terms of the nodes in layer $(l + 1)$.\n",
    "\n",
    "1. Set the input layer’s values $(a^{(1)})$ to the $t$-th training example $x^{(t)}$. Perform a feedforward pass, computing cache the activations $(z^{(2)}, a^{(2)}, z^{(3)}, a^{(3)})$ for layers 2 and 3.\n",
    "2. For each output unit $k$ in layer 3 (the output layer), set\n",
    "$$ \\delta_k^{(3)} = (a_k^{(3)} - y_k), $$\n",
    "where $y_k \\in \\{0, 1\\}$ indicates whether the current training example belongs to class $k$ ($y_k = 1$), or if it belongs to a different class $(y_k = 0)$. You may find logical arrays helpful for this task (explained in the previous programming exercise).\n",
    "3. For hidden layer $l = 2$, set\n",
    "$$ \\delta^{(2)} = (\\Theta^{(2)})^T \\delta^{(3)} * g'(z^{(2)}) \\quad \n",
    "\\text{(element-wise muliplication)} $$\n",
    "4. Accumulate the gradient from this example using the following formula. Note that you should skip or remove $\\delta_0^{(2)}$.\n",
    "$$ \\Delta^{(l)} = \\Delta^{(l)} + \\delta^{(l+1)}(a^{(l)})^T $$\n",
    "5. Obtain the (unregularized) gradient for the neural network cost function by dividing the accumulated gradients by $\\frac{1}{m}$:\n",
    "$$\\frac{\\partial}{\\partial \\Theta_{ij}^{(l)}}J(\\Theta) = D_{ij}^{(l)} = \\frac{1}{m} \\Delta_{ij}^{(l)} $$"
   ]
  },
  {
   "cell_type": "markdown",
   "metadata": {},
   "source": [
    "### 2.4. Regularization in Backpropagation\n",
    "To account for regularization, you will add regularization to the radient. To account for regularization, it turns out that you can add this as an additional term *after* computing the gradients using backpropagation.\n",
    "\n",
    "Specifically, after you have computed $\\Delta_{ij}^{(l)}$ using backpropagation, yo should add regularization using\n",
    "$$ \\frac{\\partial}{\\partial \\Theta_{ij}^{(l)}} J(\\Theta) = D_{ij}^{(l)} = \\frac{1}{m} \\Delta_{ij}^{(l)} \\qquad \\text{for } j = 0 $$\n",
    "$$ \\frac{\\partial}{\\partial \\Theta_{ij}^{(l)}} J(\\Theta) = D_{ij}^{(l)} = \\frac{1}{m} \\Delta_{ij}^{(l)} + \\frac{\\lambda}{m} \\Theta_{ij}^{(l)} \\qquad \\text{for } j \\geq 1 $$\n",
    "\n",
    "Note that you should *not* be regularizing the first column of $\\Theta^{(l)}$ which is used for the bias term. Furthermore, in the parameters $\\Theta_{ij}^{(l)}$, $i$ is indexed starting from 1, and $j$ is indexed starting from 0. Thus\n",
    "$$ \\Theta^{(l)} = \\left[\\begin{array}{ccc} \\Theta_{1,0}^{(i)} & \\Theta_{1,1}^{(i)} & \\ldots \\\\ \\Theta_{2,0}^{(i)} & \\Theta_{2,1}^{(i)} & \\\\ \\vdots & & \\ddots \\end{array}\\right] $$"
   ]
  },
  {
   "cell_type": "code",
   "execution_count": 16,
   "metadata": {
    "collapsed": true
   },
   "outputs": [],
   "source": [
    "def backward_propagation(parameters, cache, X, Y, lambd):\n",
    "    \"\"\"\n",
    "    Implement the backward propagation using the instructions above.\n",
    "    \n",
    "    Arguments:\n",
    "    parameters -- python dictionary containing our parameters \n",
    "    cache -- a dictionary containing \"Z1\", \"A1\", \"Z2\" and \"A2\".\n",
    "    X -- input data of shape (number of examples, input_layer_size)\n",
    "    Y -- \"true\" labels vector of shape (num_labels, number of examples)\n",
    "    \n",
    "    Returns:\n",
    "    grads -- dictionary containing gradients with respect to different parameters\n",
    "    \"\"\"\n",
    "    \n",
    "    m = X.shape[0] # the number of examples\n",
    "    \n",
    "    # Get Theta1 and Theta2 from parameters\n",
    "    Theta1 = parameters[\"Theta1\"]  # Theta1.shape = (25, 401)\n",
    "    Theta2 = parameters[\"Theta2\"]  # Theta2.shape = (10, 26)\n",
    "    \n",
    "    A0 = cache[\"A0\"]  # A0.shape = (401, 5000)\n",
    "    Z1 = cache[\"Z1\"]  # Z1.shape = (25, 5000)\n",
    "    A1 = cache[\"A1\"]  # A1.shape = (26, 5000)\n",
    "    Z2 = cache[\"Z2\"]  # Z2.shape = (10, 5000)\n",
    "    A2 = cache[\"A2\"]  # A2.shape = (10, 5000)\n",
    "    \n",
    "    dZ2 = A2 - Y  # dZ2.shape = (10, 5000)\n",
    "    dTheta2 = np.dot(dZ2, A1.T) / m  # dTheta2.shape = (10, 5000) @ (5000, 26) = (10, 26)\n",
    "    dZ1 = np.dot(Theta2[:, 1:].T, dZ2) * sigmoid_gradient(Z1)  # dZ1.shape = Z1.shape = A1.shape = (25, 5000)\n",
    "    dTheta1 = np.dot(dZ1, A0.T) / m  # dTheta1.shape = (25, 5000) @ (5000, 401) = (25, 401)\n",
    "    \n",
    "    # Regularization\n",
    "    dTheta1[:, 1:] = dTheta1[:, 1:] + lambd / m * Theta1[:, 1:]\n",
    "    dTheta2[:, 1:] = dTheta2[:, 1:] + lambd / m * Theta2[:, 1:]\n",
    "    \n",
    "    assert(dTheta1.shape == Theta1.shape)\n",
    "    assert(dTheta2.shape == Theta2.shape)\n",
    "    \n",
    "    grads = {\"dTheta1\": dTheta1,\n",
    "             \"dTheta2\": dTheta2}\n",
    "    \n",
    "    return grads"
   ]
  },
  {
   "cell_type": "markdown",
   "metadata": {},
   "source": [
    "### 2.5. Gradient checking\n",
    "In your neural network, you are minimizing the cost function $J(\\Theta)$, To perform gradient checking on your parameters, you can imagine \"unrolling\" parameters $\\Theta^{(1)}$, $\\Theta^{(2)}$ into a long vector $\\theta$. By doing so, you can think of the cost function being $J(\\Theta)$ instead and use the following gradient checking procedure.\n",
    "\n",
    "Suppose you have a function $f_i(\\theta)$ that purportedly computes $\\frac{\\partial}{\\partial \\theta_i}J(\\theta)$; you'd like to check if $f_i$ is outputting correct derivative values.\n",
    "$$ \\text{Let} \\quad \\theta^{(i+)} = \\theta + \\left[\\begin{array}{c} 0 \\\\ 0 \\\\ \\vdots \\\\ \\epsilon \\\\ \\vdots \\\\ 0 \\end{array}\\right] \\qquad \\text{and} \\quad \\theta^{(i-)} = \\theta - \\left[\\begin{array}{c} 0 \\\\ 0 \\\\ \\vdots \\\\ \\epsilon \\\\ \\vdots \\\\ 0 \\end{array}\\right] $$\n",
    "\n",
    "So, $\\theta^{(i+)}$ is the same as $\\theta$, except its $i$-th element has been incremented by $\\epsilon$. Similarly, $\\theta^{(i-)}$ is the corresponding vector with the $i$-th element decreased by $\\epsilon$. You can now numerically verify $f_i(\\theta)$'s correctness by checking, for each $i$, that:\n",
    "$$ f_i(\\theta) \\approx \\frac{J(\\theta^{(i+)}) - J(\\theta^{(i-)})}{2\\epsilon} $$\n",
    "\n",
    "The degree to which these two values should approximate each other will depend on the details of $J$. But assuming $\\epsilon = 10^{-4}$, you'll usually find that the left- and right-hand sides of the above will agree to at least 4 significant digits (and often many more). The `check_nn_gradients` function will create a small neural network and dataset that will be used for checking your gradients. If your backpropagation implementation is correct, you should see a relative difference that is less than 1e-9.\n",
    "\n",
    "For each $i$ in num_parameters:\n",
    "- To compute `J_plus[i]`:\n",
    "    1. Set $\\theta^{+}$ to `np.copy(parameters_values)`\n",
    "    2. Set $\\theta^{+}_i$ to $\\theta^{+}_i + \\varepsilon$\n",
    "    3. Calculate $J^{+}_i$ using to `forward_propagation_n(x, y, vector_to_dictionary(`$\\theta^{+}$ `))`.     \n",
    "- To compute `J_minus[i]`: do the same thing with $\\theta^{-}$\n",
    "- Compute $gradapprox[i] = \\frac{J^{+}_i - J^{-}_i}{2 \\varepsilon}$\n",
    "\n",
    "Thus, you get a vector gradapprox, where gradapprox[i] is an approximation of the gradient with respect to `parameter_values[i]`. You can now compare this gradapprox vector to the gradients vector from backpropagation. Just like for the 1D case (Steps 1', 2', 3'), compute: \n",
    "$$ difference = \\frac {\\| grad - gradapprox \\|_2}{\\| grad \\|_2 + \\| gradapprox \\|_2 } \\tag{3}$$"
   ]
  },
  {
   "cell_type": "code",
   "execution_count": 17,
   "metadata": {
    "collapsed": true
   },
   "outputs": [],
   "source": [
    "def vector_to_dictionary(nn_params, i, h, n):\n",
    "    \"\"\"\n",
    "    Convert column vector `nn_params` to dictionary `parameters`\n",
    "    \"\"\"\n",
    "    \n",
    "    parameters = {}\n",
    "    parameters[\"Theta1\"] = nn_params[:h*(i+1), :].reshape((h, i+1), order='F')\n",
    "    parameters[\"Theta2\"] = nn_params[h*(i+1):, :].reshape((n, h+1), order='F')\n",
    "    \n",
    "    return parameters"
   ]
  },
  {
   "cell_type": "code",
   "execution_count": 18,
   "metadata": {
    "collapsed": true
   },
   "outputs": [],
   "source": [
    "def debug_initialize_weights(fan_out, fan_in):\n",
    "    \"\"\"\n",
    "    Initializes the weights of a layer with fan_in incoming connections\n",
    "    and fan_out outgoing connections using a fix set of values\n",
    "    \"\"\"\n",
    "    \n",
    "    # Set W a sequnce and reshape it in Fotran order\n",
    "    W = np.arange(1, fan_out*(1+fan_in)+1)\n",
    "    W = W.reshape((fan_out, 1 + fan_in), order='F')\n",
    "    \n",
    "    # Initialize W using \"sin\", this ensures that W is always of the same\n",
    "    # values and will be useful for debugging\n",
    "    W = np.sin(W) / 10\n",
    "    \n",
    "    return W"
   ]
  },
  {
   "cell_type": "code",
   "execution_count": 19,
   "metadata": {},
   "outputs": [],
   "source": [
    "def check_nn_gradients(lambd=0, epsilon=1e-7):\n",
    "    \"\"\"\n",
    "    Creates a small neural network to check the backpropagation gradients,\n",
    "    it will output the analytical gradients produced by your backprop code\n",
    "    and the numerical gradients (computed using computeNumericalGradient).\n",
    "    These two gradient computations should result in very similar values.\n",
    "    \"\"\"\n",
    "    \n",
    "    input_s = 3\n",
    "    hidden_s = 5\n",
    "    out_s = 3\n",
    "    m = 5\n",
    "    \n",
    "    # Generate the test weights\n",
    "    Theta1 = debug_initialize_weights(hidden_s, input_s)\n",
    "    Theta2 = debug_initialize_weights(out_s, hidden_s)\n",
    "    \n",
    "    # Generate X and labels y\n",
    "    X = debug_initialize_weights(m, input_s-1)\n",
    "    y = (1 + np.mod(np.arange(1, m+1), out_s)).T\n",
    "    \n",
    "    # Turn labels y into one_hot matrix\n",
    "    Y = one_hot_matrix(y, out_s)\n",
    "    \n",
    "    # Unroll parameters\n",
    "    nn_params = np.vstack((Theta1.reshape((-1, 1), order='F'),\n",
    "                           Theta2.reshape((-1, 1), order='F')))\n",
    "    parameters = vector_to_dictionary(nn_params, input_s, hidden_s, out_s)\n",
    "    \n",
    "    # Get the grad by backward_propagation\n",
    "    _, cache = forward_propagation(X, parameters)\n",
    "    gradients = backward_propagation(parameters, cache, X, Y, lambd)  # dict\n",
    "    grad = np.vstack((gradients[\"dTheta1\"].reshape((-1, 1), order='F'),\n",
    "                      gradients[\"dTheta2\"].reshape((-1, 1), order='F')))\n",
    "    \n",
    "    # Set-up variables\n",
    "    num_parameters = nn_params.shape[0]\n",
    "    J_plus = np.zeros((num_parameters, 1))\n",
    "    J_minus = np.zeros((num_parameters, 1))\n",
    "    gradapprox = np.zeros((num_parameters, 1))\n",
    "    \n",
    "    # Compute numerical gradapprox\n",
    "    for i in range(num_parameters):\n",
    "        \n",
    "        # Compute J_plus[i]. Inputs: \"nn_params, epsilon\". Output = \"J_plus[i]\".\n",
    "        # \"_\" is used because the function you have to outputs two parameters but we only care about the first one\n",
    "        thetaplus = np.copy(nn_params)                                        # Step 1\n",
    "        thetaplus[i][0] = thetaplus[i][0] + epsilon                                   # Step 2\n",
    "        A2, _ = forward_propagation(X, vector_to_dictionary(thetaplus, input_s, hidden_s, out_s))   # Step 3\n",
    "        J_plus[i] = compute_cost(A2, Y, vector_to_dictionary(thetaplus, input_s, hidden_s, out_s), lambd)\n",
    "        \n",
    "        # Compute J_minus[i]. Inputs: \"nn_params, epsilon\". Output = \"J_minus[i]\".\n",
    "        thetaminus = np.copy(nn_params)                                       # Step 1\n",
    "        thetaminus[i][0] = thetaminus[i][0] - epsilon                                 # Step 2        \n",
    "        A2, _ = forward_propagation(X, vector_to_dictionary(thetaminus, input_s, hidden_s, out_s)) # Step 3\n",
    "        J_minus[i] = compute_cost(A2, Y, vector_to_dictionary(thetaminus, input_s, hidden_s, out_s), lambd)\n",
    "        \n",
    "        # Compute gradapprox[i]\n",
    "        gradapprox[i] = (J_plus[i] - J_minus[i]) / (2 * epsilon)\n",
    "    \n",
    "    # Compare gradapprox to backward propagation gradients by computing difference.\n",
    "    numerator = np.linalg.norm(grad - gradapprox)                                     # Step 1'\n",
    "    denominator = np.linalg.norm(grad) + np.linalg.norm(gradapprox)                   # Step 2'\n",
    "    difference = numerator / denominator                                              # Step 3'\n",
    "    \n",
    "    for i in range(grad.shape[0]):\n",
    "        print(grad[i], gradapprox[i])\n",
    "    \n",
    "    if difference > 1e-7:\n",
    "        print (\"\\033[93m\" + \"There is a mistake in the backward propagation! difference = \"\n",
    "               + str(difference) + \"\\033[0m\")\n",
    "    else:\n",
    "        print (\"\\033[92m\" + \"Your backward propagation works perfectly fine! difference = \"\n",
    "               + str(difference) + \"\\033[0m\")"
   ]
  },
  {
   "cell_type": "code",
   "execution_count": 20,
   "metadata": {},
   "outputs": [
    {
     "name": "stdout",
     "output_type": "stream",
     "text": [
      "[-0.00927825] [-0.00927825]\n",
      "[ 0.00889912] [ 0.00889912]\n",
      "[-0.00836011] [-0.00836011]\n",
      "[ 0.00762814] [ 0.00762814]\n",
      "[-0.00674798] [-0.00674798]\n",
      "[-0.01676798] [-0.01676798]\n",
      "[ 0.03943348] [ 0.03943348]\n",
      "[ 0.05933556] [ 0.05933556]\n",
      "[ 0.0247641] [ 0.0247641]\n",
      "[-0.03268814] [-0.03268815]\n",
      "[-0.06017447] [-0.06017447]\n",
      "[-0.03196123] [-0.03196123]\n",
      "[ 0.02492255] [ 0.02492256]\n",
      "[ 0.05977176] [ 0.05977176]\n",
      "[ 0.03864105] [ 0.03864105]\n",
      "[-0.01737047] [-0.01737047]\n",
      "[-0.05756587] [-0.05756587]\n",
      "[-0.04519638] [-0.04519638]\n",
      "[ 0.00914588] [ 0.00914588]\n",
      "[ 0.05461015] [ 0.05461015]\n",
      "[ 0.31454497] [ 0.31454497]\n",
      "[ 0.11105659] [ 0.11105659]\n",
      "[ 0.0974007] [ 0.0974007]\n",
      "[ 0.11868267] [ 0.11868267]\n",
      "[  3.81928696e-05] [  3.81938925e-05]\n",
      "[ 0.03369266] [ 0.03369265]\n",
      "[ 0.20398713] [ 0.20398713]\n",
      "[ 0.11714823] [ 0.11714824]\n",
      "[ 0.07548013] [ 0.07548013]\n",
      "[ 0.12569807] [ 0.12569807]\n",
      "[-0.00407588] [-0.00407588]\n",
      "[ 0.01696771] [ 0.01696771]\n",
      "[ 0.17633755] [ 0.17633755]\n",
      "[ 0.11313314] [ 0.11313314]\n",
      "[ 0.0861629] [ 0.0861629]\n",
      "[ 0.13229414] [ 0.13229414]\n",
      "[-0.00452964] [-0.00452964]\n",
      "[ 0.00150048] [ 0.00150048]\n",
      "\u001b[92mYour backward propagation works perfectly fine! difference = 8.72780068794e-09\u001b[0m\n"
     ]
    }
   ],
   "source": [
    "check_nn_gradients(lambd=3, epsilon=1e-7)"
   ]
  },
  {
   "cell_type": "code",
   "execution_count": 21,
   "metadata": {
    "collapsed": true
   },
   "outputs": [],
   "source": [
    "def update_parameters(parameters, grads, learning_rate):\n",
    "    \"\"\"\n",
    "    Updates parameters using the gradient descent update rule given above\n",
    "    \n",
    "    Arguments:\n",
    "    parameters -- python dictionary containing your parameters \n",
    "    grads -- python dictionary containing your gradients \n",
    "    \n",
    "    Returns:\n",
    "    parameters -- python dictionary containing your updated parameters \n",
    "    \"\"\"\n",
    "    \n",
    "    # Retrieve each parameter from the dictionary \"parameters\"\n",
    "    Theta1 = parameters[\"Theta1\"]  # Theta1.shape = (25, 401)\n",
    "    Theta2 = parameters[\"Theta2\"]  # Theta2.shape = (10, 26)\n",
    "    \n",
    "    # Retrieve each gradient from the dictionary \"grads\"\n",
    "    dTheta1 = grads[\"dTheta1\"]\n",
    "    dTheta2 = grads[\"dTheta2\"]\n",
    "    \n",
    "    # Update rule for each parameter\n",
    "    Theta1 = Theta1 - learning_rate * dTheta1\n",
    "    Theta2 = Theta2 - learning_rate * dTheta2\n",
    "    \n",
    "    parameters = {\"Theta1\": Theta1,\n",
    "                  \"Theta2\": Theta2}\n",
    "    \n",
    "    return parameters"
   ]
  },
  {
   "cell_type": "code",
   "execution_count": 22,
   "metadata": {},
   "outputs": [],
   "source": [
    "def nn_model(X, Y, input_layer_size, hidden_layer_size, num_labels, \\\n",
    "             lambd=0, num_iterations=10000, learning_rate=0.1,\n",
    "             print_cost=False):\n",
    "    \"\"\"\n",
    "    Arguments:\n",
    "    X -- dataset of shape (2, number of examples)\n",
    "    Y -- labels of shape (1, number of examples)\n",
    "    n_h -- size of the hidden layer\n",
    "    num_iterations -- Number of iterations in gradient descent loop\n",
    "    print_cost -- if True, print the cost every 1000 iterations\n",
    "    \n",
    "    Returns:\n",
    "    parameters -- parameters learnt by the model. They can then be used to predict.\n",
    "    \"\"\"\n",
    "    \n",
    "    # Initialize parameters, then retrieve Theta1, Theta2\n",
    "    parameters = initialize_parameters(input_layer_size, hidden_layer_size, num_labels)\n",
    "    Theta1 = parameters[\"Theta1\"]\n",
    "    Theta2 = parameters[\"Theta2\"]\n",
    "    \n",
    "    for i in range(num_iterations+1):\n",
    "        # Forward propagation. Inputs: \"X, parameters\". Outputs: \"A2, cache\".\n",
    "        A2, cache = forward_propagation(X, parameters)\n",
    "        # Cost function. Inputs: \"A2, Y, parameters\". Outputs: \"cost\".\n",
    "        cost = compute_cost(A2, Y, parameters, lambd)\n",
    "        # Backpropagation. Inputs: \"parameters, cache, X, Y\". Outputs: \"grads\".\n",
    "        grads = backward_propagation(parameters, cache, X, Y, lambd)\n",
    "        # Gradient descent parameter update. Inputs: \"parameters, grads\". Outputs: \"parameters\".\n",
    "        parameters = update_parameters(parameters, grads, learning_rate)\n",
    "        \n",
    "        # Print the cost every 1000 iterations\n",
    "        if print_cost and i % 1000 == 0:\n",
    "            print (\"Cost after iteration %i: %f\" %(i, cost))\n",
    "            \n",
    "    return parameters"
   ]
  },
  {
   "cell_type": "code",
   "execution_count": 23,
   "metadata": {},
   "outputs": [
    {
     "name": "stdout",
     "output_type": "stream",
     "text": [
      "Cost after iteration 0: 7.136839\n",
      "Cost after iteration 1000: 0.609716\n",
      "Cost after iteration 2000: 0.433692\n",
      "Cost after iteration 3000: 0.354602\n",
      "Cost after iteration 4000: 0.302249\n",
      "Cost after iteration 5000: 0.262506\n"
     ]
    }
   ],
   "source": [
    "parameters = nn_model(X, Y, input_layer_size, hidden_layer_size, num_labels,\n",
    "                      lambd=0, num_iterations=5000, learning_rate=0.3,\n",
    "                      print_cost = True)"
   ]
  },
  {
   "cell_type": "code",
   "execution_count": 24,
   "metadata": {
    "collapsed": true
   },
   "outputs": [],
   "source": [
    "def predict(X, parameters):\n",
    "    \"\"\"\n",
    "    Predict the label of an input given a trained neural network.\n",
    "    \"\"\"\n",
    "    \n",
    "    Theta1 = parameters[\"Theta1\"]\n",
    "    Theta2 = parameters[\"Theta2\"]\n",
    "    \n",
    "    m = X.shape[0]  # the number of examples\n",
    "    num_labels = Theta2.shape[0] # the number of labels\n",
    "    \n",
    "    # Get the output of the network by forward propagation\n",
    "    A2, _ = forward_propagation(X, parameters)\n",
    "    \n",
    "    # Get the max value's index for each row (rank 1 array)\n",
    "    p = np.argmax(A2, axis=0) + 1\n",
    "    # return a column vector\n",
    "    return p[np.newaxis].T"
   ]
  },
  {
   "cell_type": "code",
   "execution_count": 25,
   "metadata": {},
   "outputs": [
    {
     "name": "stdout",
     "output_type": "stream",
     "text": [
      "Training set accuracy: 96.84\n"
     ]
    }
   ],
   "source": [
    "# Predict the labels\n",
    "pred = predict(X, parameters)\n",
    "accuracy = np.sum(pred == y) / m * 100\n",
    "print(\"Training set accuracy: \" + str(accuracy))"
   ]
  },
  {
   "cell_type": "markdown",
   "metadata": {},
   "source": [
    "## 3. Visualizing the hidden layer\n",
    "One way to understand what your neural network is learning is to visualize\n",
    "what the representations captured by the hidden units. Informally, given a\n",
    "particular hidden unit, one way to visualize what it computes is to find an input $x$ that will cause it to activate (that is, to have an activation value $(a^{(l)})$ close to 1). For the neural network you trained, notice that the $i^{th}$ row of $\\Theta^{(1)}$ is a 401-dimensional vector that represents the parameter for the $i^{th}$ hidden unit. If we discard the bias term, we get a 400 dimensional vector that represents the weights from each input pixel to the hidden unit.\n",
    "Thus, one way to visualize the “representation” captured by the hidden unit is to reshape this 400 dimensional vector into a 20 $\\times$ 20 image and display it. The next step is using the `display_data` function and it will show you an image with 25 units, each corresponding to one hidden unit in the network."
   ]
  },
  {
   "cell_type": "code",
   "execution_count": 26,
   "metadata": {},
   "outputs": [
    {
     "data": {
      "image/png": "[encoded data removed]",
      "text/plain": [
       "<matplotlib.figure.Figure at 0x10c6f8390>"
      ]
     },
     "metadata": {},
     "output_type": "display_data"
    },
    {
     "data": {
      "image/png": "[encoded data removed]",
      "text/plain": [
       "<matplotlib.figure.Figure at 0x10c7d98d0>"
      ]
     },
     "metadata": {},
     "output_type": "display_data"
    }
   ],
   "source": [
    "display_data(Theta1[:, 1:])\n",
    "plt.title(r\"Visualizing $\\Theta_1$\")\n",
    "plt.show()\n",
    "\n",
    "display_data(Theta2[:, 1:])\n",
    "plt.title(r\"Visualizing $\\Theta_2$\")\n",
    "plt.show()"
   ]
  }
 ],
 "metadata": {
  "kernelspec": {
   "display_name": "Python 3",
   "language": "python",
   "name": "python3"
  },
  "language_info": {
   "codemirror_mode": {
    "name": "ipython",
    "version": 3
   },
   "file_extension": ".py",
   "mimetype": "text/x-python",
   "name": "python",
   "nbconvert_exporter": "python",
   "pygments_lexer": "ipython3",
   "version": "3.6.2"
  }
 },
 "nbformat": 4,
 "nbformat_minor": 2
}
